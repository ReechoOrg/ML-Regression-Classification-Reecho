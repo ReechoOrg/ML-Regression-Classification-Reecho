{
 "cells": [
  {
   "cell_type": "markdown",
   "metadata": {},
   "source": [
    "# Logistic Regression\n",
    "\n",
    "In this exercise, you will implement logistic regression and apply it to two different datasets. \n",
    "\n",
    "\n",
    "# Outline\n",
    "- [ 1 - Packages ](#1)\n",
    "- [ 2 - Logistic Regression](#2)\n",
    "  - [ 2.1 Problem Statement](#2.1)\n",
    "  - [ 2.2 Loading and visualizing the data](#2.2)\n",
    "  - [ 2.3  Sigmoid function](#2.3)\n",
    "  - [ 2.4 Cost function for logistic regression](#2.4)\n",
    "  - [ 2.5 Gradient for logistic regression](#2.5)\n",
    "  - [ 2.6 Learning parameters using gradient descent ](#2.6)\n",
    "  - [ 2.7 Plotting the decision boundary](#2.7)\n",
    "  - [ 2.8 Evaluating logistic regression](#2.8)\n",
    "- [ 3 - Regularized Logistic Regression](#3)\n",
    "  - [ 3.1 Problem Statement](#3.1)\n",
    "  - [ 3.2 Loading and visualizing the data](#3.2)\n",
    "  - [ 3.3 Feature mapping](#3.3)\n",
    "  - [ 3.4 Cost function for regularized logistic regression](#3.4)\n",
    "  - [ 3.5 Gradient for regularized logistic regression](#3.5)\n",
    "  - [ 3.6 Learning parameters using gradient descent](#3.6)\n",
    "  - [ 3.7 Plotting the decision boundary](#3.7)\n",
    "  - [ 3.8 Evaluating regularized logistic regression model](#3.8)\n"
   ]
  },
  {
   "cell_type": "markdown",
   "metadata": {},
   "source": [
    "<a name=\"1\"></a>\n",
    "## 1 - Packages \n",
    "\n",
    "First, let's run the cell below to import all the packages that you will need during this assignment.\n",
    "- [numpy](www.numpy.org) is the fundamental package for scientific computing with Python.\n",
    "- [matplotlib](http://matplotlib.org) is a famous library to plot graphs in Python.\n",
    "-  ``utils.py`` contains helper functions for this assignment. You do not need to modify code in this file."
   ]
  },
  {
   "cell_type": "code",
   "execution_count": 123,
   "metadata": {},
   "outputs": [],
   "source": [
    "import numpy as np\n",
    "import matplotlib.pyplot as plt\n",
    "from utils import *\n",
    "import copy\n",
    "import math\n",
    "\n",
    "%matplotlib inline"
   ]
  },
  {
   "cell_type": "markdown",
   "metadata": {},
   "source": [
    "<a name=\"2\"></a>\n",
    "## 2 - Logistic Regression\n",
    "\n",
    "In this part of the exercise, you will build a logistic regression model to predict whether a student gets admitted into a university.\n",
    "\n",
    "<a name=\"2.1\"></a>\n",
    "### 2.1 Problem Statement\n",
    "\n",
    "Suppose that you are the administrator of a university department and you want to determine each applicant’s chance of admission based on their results on two exams. \n",
    "* You have historical data from previous applicants that you can use as a training set for logistic regression. \n",
    "* For each training example, you have the applicant’s scores on two exams and the admissions decision. \n",
    "* Your task is to build a classification model that estimates an applicant’s probability of admission based on the scores from those two exams. \n",
    "\n",
    "<a name=\"2.2\"></a>\n",
    "### 2.2 Loading and visualizing the data\n",
    "\n",
    "You will start by loading the dataset for this task. \n",
    "- The `load_dataset()` function shown below loads the data into variables `X_train` and `y_train`\n",
    "  - `X_train` contains exam scores on two exams for a student\n",
    "  - `y_train` is the admission decision \n",
    "      - `y_train = 1` if the student was admitted \n",
    "      - `y_train = 0` if the student was not admitted \n",
    "  - Both `X_train` and `y_train` are numpy arrays.\n"
   ]
  },
  {
   "cell_type": "code",
   "execution_count": 124,
   "metadata": {},
   "outputs": [],
   "source": [
    "# load dataset\n",
    "X_train, y_train = load_data(\"data/ex2data1.txt\")"
   ]
  },
  {
   "cell_type": "markdown",
   "metadata": {},
   "source": [
    "#### View the variables\n",
    "Let's get more familiar with your dataset.  \n",
    "- A good place to start is to just print out each variable and see what it contains.\n",
    "\n",
    "The code below prints the first five values of `X_train` and the type of the variable."
   ]
  },
  {
   "cell_type": "code",
   "execution_count": 125,
   "metadata": {},
   "outputs": [
    {
     "name": "stdout",
     "output_type": "stream",
     "text": [
      "First five elements in X_train are:\n",
      " [[34.62365962 78.02469282]\n",
      " [30.28671077 43.89499752]\n",
      " [35.84740877 72.90219803]\n",
      " [60.18259939 86.3085521 ]\n",
      " [79.03273605 75.34437644]]\n",
      "Type of X_train: <class 'numpy.ndarray'>\n"
     ]
    }
   ],
   "source": [
    "print(\"First five elements in X_train are:\\n\", X_train[:5])\n",
    "print(\"Type of X_train:\",type(X_train))"
   ]
  },
  {
   "cell_type": "markdown",
   "metadata": {},
   "source": [
    "Now print the first five values of `y_train`"
   ]
  },
  {
   "cell_type": "code",
   "execution_count": 126,
   "metadata": {},
   "outputs": [
    {
     "name": "stdout",
     "output_type": "stream",
     "text": [
      "First five elements in y_train are:\n",
      " [0. 0. 0. 1. 1.]\n",
      "Type of y_train: <class 'numpy.ndarray'>\n"
     ]
    }
   ],
   "source": [
    "print(\"First five elements in y_train are:\\n\", y_train[:5])\n",
    "print(\"Type of y_train:\",type(y_train))"
   ]
  },
  {
   "cell_type": "markdown",
   "metadata": {},
   "source": [
    "#### Check the dimensions of your variables\n",
    "\n",
    "Another useful way to get familiar with your data is to view its dimensions. Let's print the shape of `X_train` and `y_train` and see how many training examples we have in our dataset."
   ]
  },
  {
   "cell_type": "code",
   "execution_count": 127,
   "metadata": {},
   "outputs": [
    {
     "name": "stdout",
     "output_type": "stream",
     "text": [
      "The shape of X_train is: (100, 2)\n",
      "The shape of y_train is: (100,)\n",
      "We have m = 100 training examples\n"
     ]
    }
   ],
   "source": [
    "print ('The shape of X_train is: ' + str(X_train.shape))\n",
    "print ('The shape of y_train is: ' + str(y_train.shape))\n",
    "print ('We have m = %d training examples' % (len(y_train)))"
   ]
  },
  {
   "cell_type": "markdown",
   "metadata": {},
   "source": [
    "#### Visualize your data\n",
    "\n",
    "Before starting to implement any learning algorithm, it is always good to visualize the data if possible.\n",
    "- The code below displays the data on a 2D plot (as shown below), where the axes are the two exam scores, and the positive and negative examples are shown with different markers.\n",
    "- We use a helper function in the ``utils.py`` file to generate this plot. \n",
    "\n",
    "<img src=\"images/figure 1.png\" width=\"450\" height=\"450\">\n",
    "\n"
   ]
  },
  {
   "cell_type": "code",
   "execution_count": 128,
   "metadata": {},
   "outputs": [
    {
     "data": {
      "image/png": "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