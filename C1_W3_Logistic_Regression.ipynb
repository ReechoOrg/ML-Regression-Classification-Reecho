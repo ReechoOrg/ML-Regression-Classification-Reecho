{
 "cells": [
  {
   "cell_type": "markdown",
   "metadata": {},
   "source": [
    "# Logistic Regression\n",
    "\n",
    "In this exercise, you will implement logistic regression and apply it to two different datasets. \n",
    "\n",
    "\n",
    "# Outline\n",
    "- [ 1 - Packages ](#1)\n",
    "- [ 2 - Logistic Regression](#2)\n",
    "  - [ 2.1 Problem Statement](#2.1)\n",
    "  - [ 2.2 Loading and visualizing the data](#2.2)\n",
    "  - [ 2.3  Sigmoid function](#2.3)\n",
    "  - [ 2.4 Cost function for logistic regression](#2.4)\n",
    "  - [ 2.5 Gradient for logistic regression](#2.5)\n",
    "  - [ 2.6 Learning parameters using gradient descent ](#2.6)\n",
    "  - [ 2.7 Plotting the decision boundary](#2.7)\n",
    "  - [ 2.8 Evaluating logistic regression](#2.8)\n",
    "- [ 3 - Regularized Logistic Regression](#3)\n",
    "  - [ 3.1 Problem Statement](#3.1)\n",
    "  - [ 3.2 Loading and visualizing the data](#3.2)\n",
    "  - [ 3.3 Feature mapping](#3.3)\n",
    "  - [ 3.4 Cost function for regularized logistic regression](#3.4)\n",
    "  - [ 3.5 Gradient for regularized logistic regression](#3.5)\n",
    "  - [ 3.6 Learning parameters using gradient descent](#3.6)\n",
    "  - [ 3.7 Plotting the decision boundary](#3.7)\n",
    "  - [ 3.8 Evaluating regularized logistic regression model](#3.8)\n"
   ]
  },
  {
   "cell_type": "markdown",
   "metadata": {},
   "source": [
    "<a name=\"1\"></a>\n",
    "## 1 - Packages \n",
    "\n",
    "First, let's run the cell below to import all the packages that you will need during this assignment.\n",
    "- [numpy](www.numpy.org) is the fundamental package for scientific computing with Python.\n",
    "- [matplotlib](http://matplotlib.org) is a famous library to plot graphs in Python.\n",
    "-  ``utils.py`` contains helper functions for this assignment. You do not need to modify code in this file."
   ]
  },
  {
   "cell_type": "code",
   "execution_count": 123,
   "metadata": {},
   "outputs": [],
   "source": [
    "import numpy as np\n",
    "import matplotlib.pyplot as plt\n",
    "from utils import *\n",
    "import copy\n",
    "import math\n",
    "\n",
    "%matplotlib inline"
   ]
  },
  {
   "cell_type": "markdown",
   "metadata": {},
   "source": [
    "<a name=\"2\"></a>\n",
    "## 2 - Logistic Regression\n",
    "\n",
    "In this part of the exercise, you will build a logistic regression model to predict whether a student gets admitted into a university.\n",
    "\n",
    "<a name=\"2.1\"></a>\n",
    "### 2.1 Problem Statement\n",
    "\n",
    "Suppose that you are the administrator of a university department and you want to determine each applicant’s chance of admission based on their results on two exams. \n",
    "* You have historical data from previous applicants that you can use as a training set for logistic regression. \n",
    "* For each training example, you have the applicant’s scores on two exams and the admissions decision. \n",
    "* Your task is to build a classification model that estimates an applicant’s probability of admission based on the scores from those two exams. \n",
    "\n",
    "<a name=\"2.2\"></a>\n",
    "### 2.2 Loading and visualizing the data\n",
    "\n",
    "You will start by loading the dataset for this task. \n",
    "- The `load_dataset()` function shown below loads the data into variables `X_train` and `y_train`\n",
    "  - `X_train` contains exam scores on two exams for a student\n",
    "  - `y_train` is the admission decision \n",
    "      - `y_train = 1` if the student was admitted \n",
    "      - `y_train = 0` if the student was not admitted \n",
    "  - Both `X_train` and `y_train` are numpy arrays.\n"
   ]
  },
  {
   "cell_type": "code",
   "execution_count": 124,
   "metadata": {},
   "outputs": [],
   "source": [
    "# load dataset\n",
    "X_train, y_train = load_data(\"data/ex2data1.txt\")"
   ]
  },
  {
   "cell_type": "markdown",
   "metadata": {},
   "source": [
    "#### View the variables\n",
    "Let's get more familiar with your dataset.  \n",
    "- A good place to start is to just print out each variable and see what it contains.\n",
    "\n",
    "The code below prints the first five values of `X_train` and the type of the variable."
   ]
  },
  {
   "cell_type": "code",
   "execution_count": 125,
   "metadata": {},
   "outputs": [
    {
     "name": "stdout",
     "output_type": "stream",
     "text": [
      "First five elements in X_train are:\n",
      " [[34.62365962 78.02469282]\n",
      " [30.28671077 43.89499752]\n",
      " [35.84740877 72.90219803]\n",
      " [60.18259939 86.3085521 ]\n",
      " [79.03273605 75.34437644]]\n",
      "Type of X_train: <class 'numpy.ndarray'>\n"
     ]
    }
   ],
   "source": [
    "print(\"First five elements in X_train are:\\n\", X_train[:5])\n",
    "print(\"Type of X_train:\",type(X_train))"
   ]
  },
  {
   "cell_type": "markdown",
   "metadata": {},
   "source": [
    "Now print the first five values of `y_train`"
   ]
  },
  {
   "cell_type": "code",
   "execution_count": 126,
   "metadata": {},
   "outputs": [
    {
     "name": "stdout",
     "output_type": "stream",
     "text": [
      "First five elements in y_train are:\n",
      " [0. 0. 0. 1. 1.]\n",
      "Type of y_train: <class 'numpy.ndarray'>\n"
     ]
    }
   ],
   "source": [
    "print(\"First five elements in y_train are:\\n\", y_train[:5])\n",
    "print(\"Type of y_train:\",type(y_train))"
   ]
  },
  {
   "cell_type": "markdown",
   "metadata": {},
   "source": [
    "#### Check the dimensions of your variables\n",
    "\n",
    "Another useful way to get familiar with your data is to view its dimensions. Let's print the shape of `X_train` and `y_train` and see how many training examples we have in our dataset."
   ]
  },
  {
   "cell_type": "code",
   "execution_count": 127,
   "metadata": {},
   "outputs": [
    {
     "name": "stdout",
     "output_type": "stream",
     "text": [
      "The shape of X_train is: (100, 2)\n",
      "The shape of y_train is: (100,)\n",
      "We have m = 100 training examples\n"
     ]
    }
   ],
   "source": [
    "print ('The shape of X_train is: ' + str(X_train.shape))\n",
    "print ('The shape of y_train is: ' + str(y_train.shape))\n",
    "print ('We have m = %d training examples' % (len(y_train)))"
   ]
  },
  {
   "cell_type": "markdown",
   "metadata": {},
   "source": [
    "#### Visualize your data\n",
    "\n",
    "Before starting to implement any learning algorithm, it is always good to visualize the data if possible.\n",
    "- The code below displays the data on a 2D plot (as shown below), where the axes are the two exam scores, and the positive and negative examples are shown with different markers.\n",
    "- We use a helper function in the ``utils.py`` file to generate this plot. \n",
    "\n",
    "<img src=\"images/figure 1.png\" width=\"450\" height=\"450\">\n",
    "\n"
   ]
  },
  {
   "cell_type": "code",
   "execution_count": 128,
   "metadata": {},
   "outputs": [
    {
     "data": {
      "image/png": "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